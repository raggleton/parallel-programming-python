{
 "cells": [
  {
   "cell_type": "markdown",
   "metadata": {},
   "source": [
    "# Functions as objects"
   ]
  },
  {
   "cell_type": "code",
   "execution_count": 3,
   "metadata": {
    "collapsed": false
   },
   "outputs": [
    {
     "data": {
      "text/plain": [
       "10"
      ]
     },
     "execution_count": 3,
     "metadata": {},
     "output_type": "execute_result"
    }
   ],
   "source": [
    "def sum(x, y):\n",
    "    \"\"\"Do a sum\"\"\"\n",
    "    return x+y\n",
    "\n",
    "sum(3,7)"
   ]
  },
  {
   "cell_type": "code",
   "execution_count": 2,
   "metadata": {
    "collapsed": false
   },
   "outputs": [
    {
     "name": "stdout",
     "output_type": "stream",
     "text": [
      "10\n"
     ]
    }
   ],
   "source": [
    "a = sum\n",
    "print a(3,7)"
   ]
  },
  {
   "cell_type": "code",
   "execution_count": 4,
   "metadata": {
    "collapsed": false
   },
   "outputs": [
    {
     "data": {
      "text/plain": [
       "'Do a sum'"
      ]
     },
     "execution_count": 4,
     "metadata": {},
     "output_type": "execute_result"
    }
   ],
   "source": [
    "sum.__doc__"
   ]
  },
  {
   "cell_type": "code",
   "execution_count": 5,
   "metadata": {
    "collapsed": false
   },
   "outputs": [
    {
     "data": {
      "text/plain": [
       "'sum'"
      ]
     },
     "execution_count": 5,
     "metadata": {},
     "output_type": "execute_result"
    }
   ],
   "source": [
    "sum.__name__"
   ]
  },
  {
   "cell_type": "code",
   "execution_count": 6,
   "metadata": {
    "collapsed": true
   },
   "outputs": [],
   "source": [
    "def call_function(func, arg1, arg2):\n",
    "    \"\"\"Calls func with arg1 and arg2\"\"\"\n",
    "    return func(arg1, arg2)"
   ]
  },
  {
   "cell_type": "code",
   "execution_count": 7,
   "metadata": {
    "collapsed": false
   },
   "outputs": [
    {
     "name": "stdout",
     "output_type": "stream",
     "text": [
      "10\n"
     ]
    }
   ],
   "source": [
    "print call_function(sum, 3, 7)"
   ]
  },
  {
   "cell_type": "code",
   "execution_count": 8,
   "metadata": {
    "collapsed": true
   },
   "outputs": [],
   "source": [
    "def diff(x, y):\n",
    "    \"\"\"Returns diff of args\"\"\"\n",
    "    return x-y"
   ]
  },
  {
   "cell_type": "code",
   "execution_count": 10,
   "metadata": {
    "collapsed": false
   },
   "outputs": [
    {
     "name": "stdout",
     "output_type": "stream",
     "text": [
      "7\n"
     ]
    }
   ],
   "source": [
    "result = call_function(diff, 9, 2)\n",
    "print result"
   ]
  },
  {
   "cell_type": "code",
   "execution_count": 15,
   "metadata": {
    "collapsed": true
   },
   "outputs": [],
   "source": [
    "def call_function(func, arg1, arg2):\n",
    "    \"\"\"Calls func with arg1 and arg2 \"\"\"\n",
    "    print \"Calling function %s with arguments %d and %d\" % (func.__name__, arg1, arg2)\n",
    "    result = func(arg1, arg2)\n",
    "    print \"The result is %s\" % str(result)\n",
    "    return result"
   ]
  },
  {
   "cell_type": "code",
   "execution_count": 17,
   "metadata": {
    "collapsed": false
   },
   "outputs": [
    {
     "name": "stdout",
     "output_type": "stream",
     "text": [
      "Calling function sum with arguments 3 and 7\n",
      "The result is 10\n",
      "10\n"
     ]
    }
   ],
   "source": [
    "print call_function(sum, 3, 7)"
   ]
  },
  {
   "cell_type": "code",
   "execution_count": 18,
   "metadata": {
    "collapsed": false
   },
   "outputs": [
    {
     "name": "stdout",
     "output_type": "stream",
     "text": [
      "Calling function diff with arguments 9 and 2\n",
      "The result is 7\n",
      "7\n"
     ]
    }
   ],
   "source": [
    "print call_function(diff, 9, 2)"
   ]
  },
  {
   "cell_type": "code",
   "execution_count": 19,
   "metadata": {
    "collapsed": true
   },
   "outputs": [],
   "source": [
    "def multiply(arg1, arg2):\n",
    "    return arg1 * arg2"
   ]
  },
  {
   "cell_type": "code",
   "execution_count": 20,
   "metadata": {
    "collapsed": false
   },
   "outputs": [
    {
     "name": "stdout",
     "output_type": "stream",
     "text": [
      "Calling function multiply with arguments 4 and 5\n",
      "The result is 20\n",
      "20\n"
     ]
    }
   ],
   "source": [
    "print call_function( multiply, 4, 5 )"
   ]
  },
  {
   "cell_type": "markdown",
   "metadata": {},
   "source": [
    "# Mapping functions"
   ]
  },
  {
   "cell_type": "code",
   "execution_count": 23,
   "metadata": {
    "collapsed": false
   },
   "outputs": [
    {
     "name": "stdout",
     "output_type": "stream",
     "text": [
      "[1, 2, 3, 4, 5] [6, 7, 8, 9, 10]\n",
      "[7, 9, 11, 13, 15]\n"
     ]
    }
   ],
   "source": [
    "a = range(1, 6)\n",
    "b = range(6, 11)\n",
    "print a, b\n",
    "\n",
    "result = []\n",
    "\n",
    "for i in range(0, len(a)):\n",
    "    result.append( sum(a[i], b[i]) )\n",
    "    \n",
    "print result"
   ]
  },
  {
   "cell_type": "code",
   "execution_count": 26,
   "metadata": {
    "collapsed": true
   },
   "outputs": [],
   "source": [
    "def mapper(func, arg1, arg2):\n",
    "    \"\"\"Map functions func to each pair of arguments arg1 and arg2, returning the result\"\"\"\n",
    "    nargs = min( len(arg1), len(arg2) )\n",
    "    res = []\n",
    "    for i in range(0, nargs):\n",
    "        res.append(func(arg1[i], arg2[i]))\n",
    "        \n",
    "    return res"
   ]
  },
  {
   "cell_type": "code",
   "execution_count": 27,
   "metadata": {
    "collapsed": false
   },
   "outputs": [
    {
     "name": "stdout",
     "output_type": "stream",
     "text": [
      "[7, 9, 11, 13, 15]\n"
     ]
    }
   ],
   "source": [
    "result = mapper(sum, a, b)\n",
    "print result"
   ]
  },
  {
   "cell_type": "code",
   "execution_count": 28,
   "metadata": {
    "collapsed": false
   },
   "outputs": [
    {
     "name": "stdout",
     "output_type": "stream",
     "text": [
      "[6, 14, 24, 36, 50]\n"
     ]
    }
   ],
   "source": [
    "result = mapper( multiply, a, b )\n",
    "print result"
   ]
  },
  {
   "cell_type": "code",
   "execution_count": 29,
   "metadata": {
    "collapsed": true
   },
   "outputs": [],
   "source": [
    "import math\n",
    "\n",
    "def calc_distance(point1, point2):\n",
    "    \"\"\"Return distance between 2 points\"\"\"\n",
    "    \n",
    "    dx2 = (point1[0] - point2[0])**2\n",
    "    dy2 = (point1[1] - point2[1])**2\n",
    "    dz2 = (point1[2] - point2[2])**2\n",
    "\n",
    "    return math.sqrt( dx2 + dy2 + dz2 )"
   ]
  },
  {
   "cell_type": "code",
   "execution_count": 30,
   "metadata": {
    "collapsed": false
   },
   "outputs": [
    {
     "name": "stdout",
     "output_type": "stream",
     "text": [
      "[5.196152422706632, 5.196152422706632, 5.196152422706632]\n"
     ]
    }
   ],
   "source": [
    "points1 = [ (1.0,1.0,1.0), (2.0,2.0,2.0), (3.0,3.0,3.0) ]\n",
    "points2 = [ (4.0,4.0,4.0), (5.0,5.0,5.0), (6.0,6.0,6.0) ]\n",
    "\n",
    "distances = mapper(calc_distance, points1, points2)\n",
    "print distances"
   ]
  },
  {
   "cell_type": "code",
   "execution_count": 31,
   "metadata": {
    "collapsed": false
   },
   "outputs": [
    {
     "name": "stdout",
     "output_type": "stream",
     "text": [
      "[5.196152422706632, 5.196152422706632, 5.196152422706632]\n"
     ]
    }
   ],
   "source": [
    "distances = map( calc_distance, points1, points2 )\n",
    "\n",
    "print(distances)"
   ]
  },
  {
   "cell_type": "code",
   "execution_count": 32,
   "metadata": {
    "collapsed": true
   },
   "outputs": [],
   "source": [
    "def square(x):\n",
    "    \"\"\"Simple function to return the square of\n",
    "       the passed argument\"\"\"\n",
    "    return x*x"
   ]
  },
  {
   "cell_type": "code",
   "execution_count": 33,
   "metadata": {
    "collapsed": false
   },
   "outputs": [
    {
     "ename": "TypeError",
     "evalue": "mapper() takes exactly 3 arguments (2 given)",
     "output_type": "error",
     "traceback": [
      "\u001b[0;31m---------------------------------------------------------------------------\u001b[0m",
      "\u001b[0;31mTypeError\u001b[0m                                 Traceback (most recent call last)",
      "\u001b[0;32m<ipython-input-33-7c78d8db5e3e>\u001b[0m in \u001b[0;36m<module>\u001b[0;34m()\u001b[0m\n\u001b[1;32m      1\u001b[0m \u001b[0mnumbers\u001b[0m \u001b[0;34m=\u001b[0m \u001b[0mrange\u001b[0m\u001b[0;34m(\u001b[0m\u001b[0;36m1\u001b[0m\u001b[0;34m,\u001b[0m \u001b[0;36m6\u001b[0m\u001b[0;34m)\u001b[0m\u001b[0;34m\u001b[0m\u001b[0m\n\u001b[0;32m----> 2\u001b[0;31m \u001b[0;32mprint\u001b[0m \u001b[0mmapper\u001b[0m\u001b[0;34m(\u001b[0m\u001b[0msquare\u001b[0m\u001b[0;34m,\u001b[0m \u001b[0mnumbers\u001b[0m\u001b[0;34m)\u001b[0m\u001b[0;34m\u001b[0m\u001b[0m\n\u001b[0m",
      "\u001b[0;31mTypeError\u001b[0m: mapper() takes exactly 3 arguments (2 given)"
     ]
    }
   ],
   "source": [
    "numbers = range(1, 6)\n",
    "print mapper(square, numbers)"
   ]
  },
  {
   "cell_type": "code",
   "execution_count": 34,
   "metadata": {
    "collapsed": false
   },
   "outputs": [
    {
     "name": "stdout",
     "output_type": "stream",
     "text": [
      "[1, 4, 9, 16, 25]\n"
     ]
    }
   ],
   "source": [
    "result = map(square, numbers)\n",
    "\n",
    "print( result )"
   ]
  },
  {
   "cell_type": "code",
   "execution_count": 35,
   "metadata": {
    "collapsed": false
   },
   "outputs": [
    {
     "name": "stdout",
     "output_type": "stream",
     "text": [
      "[1, 2, 1, 2, 1]\n"
     ]
    }
   ],
   "source": [
    "def find_smallest(arg1, arg2, arg3):\n",
    "    return min(arg1, min(arg2, arg3))\n",
    "\n",
    "a = [1, 2, 3, 4, 5]\n",
    "b = [5, 4, 3, 2, 1]\n",
    "c = [1, 2, 1, 2, 1]\n",
    "\n",
    "result = map( find_smallest, a, b, c )\n",
    "\n",
    "print( result )"
   ]
  },
  {
   "cell_type": "markdown",
   "metadata": {},
   "source": [
    "## Exercise"
   ]
  },
  {
   "cell_type": "code",
   "execution_count": 54,
   "metadata": {
    "collapsed": false
   },
   "outputs": [
    {
     "name": "stdout",
     "output_type": "stream",
     "text": [
      "allswellthatendswell = 4515\n",
      "antonyandcleopatra = 5998\n",
      "asyoulikeit = 4122\n",
      "comedyoferrors = 2937\n",
      "coriolanus = 5836\n",
      "cymbeline = 5485\n",
      "hamlet = 6045\n",
      "juliuscaesar = 4107\n",
      "kinglear = 5525\n",
      "loveslabourslost = 4335\n",
      "macbeth = 3876\n",
      "measureforemeasure = 4337\n",
      "merchantofvenice = 3883\n",
      "merrywivesofwindsor = 4448\n",
      "midsummersnightsdream = 3115\n",
      "muchadoaboutnothing = 4063\n",
      "othello = 5424\n",
      "periclesprinceoftyre = 3871\n",
      "romeoandjuliet = 4766\n",
      "tamingoftheshrew = 4148\n",
      "tempest = 3399\n",
      "timonofathens = 3973\n",
      "titusandronicus = 3767\n",
      "troilusandcressida = 5443\n",
      "twelfthnight = 4017\n",
      "twogentlemenofverona = 3605\n",
      "winterstale = 4643\n"
     ]
    }
   ],
   "source": [
    "def count_lines(filename):\n",
    "    count = 0\n",
    "    with open(filename) as f:\n",
    "        count = len(f.readlines())\n",
    "#         for line in f:\n",
    "#             count += 1\n",
    "    return count\n",
    "\n",
    "import os\n",
    "\n",
    "plays = [os.path.join('shakespeare', p) for p in os.listdir('shakespeare') if p != 'README']\n",
    "line_counts = map(count_lines, plays)\n",
    "\n",
    "for p, lc in zip(plays, line_counts):\n",
    "    print os.path.basename(p), '=', lc"
   ]
  },
  {
   "cell_type": "markdown",
   "metadata": {},
   "source": [
    "# Reduction"
   ]
  },
  {
   "cell_type": "code",
   "execution_count": 50,
   "metadata": {
    "collapsed": false
   },
   "outputs": [
    {
     "name": "stdout",
     "output_type": "stream",
     "text": [
      "[7, 9, 11, 13, 15]\n"
     ]
    }
   ],
   "source": [
    "def sum(x, y):\n",
    "    \"\"\"Function to return the sum of x and y\"\"\"\n",
    "    return x + y\n",
    "\n",
    "a = [1, 2, 3, 4, 5]\n",
    "b = [6, 7, 8, 9, 10]\n",
    "\n",
    "result = map( sum, a, b )\n",
    "\n",
    "print(result)"
   ]
  },
  {
   "cell_type": "code",
   "execution_count": 51,
   "metadata": {
    "collapsed": false
   },
   "outputs": [
    {
     "name": "stdout",
     "output_type": "stream",
     "text": [
      "Total = 55\n"
     ]
    }
   ],
   "source": [
    "total = 0\n",
    "\n",
    "for i in range(0,len(result)):\n",
    "    total += result[i]\n",
    "\n",
    "print(\"Total = %d\" % total)"
   ]
  },
  {
   "cell_type": "code",
   "execution_count": 55,
   "metadata": {
    "collapsed": true
   },
   "outputs": [],
   "source": [
    "total = reduce(sum, result)\n",
    "print total"
   ]
  },
  {
   "cell_type": "code",
   "execution_count": 57,
   "metadata": {
    "collapsed": false
   },
   "outputs": [
    {
     "name": "stdout",
     "output_type": "stream",
     "text": [
      "25\n"
     ]
    }
   ],
   "source": [
    "a = [1, 2, 3, 4, 5]\n",
    "\n",
    "total = reduce( sum, a, 10 )\n",
    "\n",
    "print(total)"
   ]
  },
  {
   "cell_type": "code",
   "execution_count": 58,
   "metadata": {
    "collapsed": false
   },
   "outputs": [
    {
     "name": "stdout",
     "output_type": "stream",
     "text": [
      "120\n"
     ]
    }
   ],
   "source": [
    "def multiply(x, y):\n",
    "    return x * y\n",
    "\n",
    "total = reduce(multiply, a)\n",
    "print total"
   ]
  },
  {
   "cell_type": "code",
   "execution_count": 59,
   "metadata": {
    "collapsed": false
   },
   "outputs": [
    {
     "name": "stdout",
     "output_type": "stream",
     "text": [
      "cat dog mouse fish\n"
     ]
    }
   ],
   "source": [
    "def join_strings(x, y):\n",
    "    return '%s %s' % (x, y)\n",
    "\n",
    "a = ['cat', 'dog', 'mouse', 'fish']\n",
    "print reduce(join_strings, a)"
   ]
  },
  {
   "cell_type": "markdown",
   "metadata": {},
   "source": [
    "## Exercise"
   ]
  },
  {
   "cell_type": "markdown",
   "metadata": {},
   "source": [
    "Now add in reduce()!"
   ]
  },
  {
   "cell_type": "code",
   "execution_count": 64,
   "metadata": {
    "collapsed": false
   },
   "outputs": [
    {
     "name": "stdout",
     "output_type": "stream",
     "text": [
      "allswellthatendswell contains 4515 lines\n",
      "antonyandcleopatra contains 5998 lines\n",
      "asyoulikeit contains 4122 lines\n",
      "comedyoferrors contains 2937 lines\n",
      "coriolanus contains 5836 lines\n",
      "cymbeline contains 5485 lines\n",
      "hamlet contains 6045 lines\n",
      "juliuscaesar contains 4107 lines\n",
      "kinglear contains 5525 lines\n",
      "loveslabourslost contains 4335 lines\n",
      "macbeth contains 3876 lines\n",
      "measureforemeasure contains 4337 lines\n",
      "merchantofvenice contains 3883 lines\n",
      "merrywivesofwindsor contains 4448 lines\n",
      "midsummersnightsdream contains 3115 lines\n",
      "muchadoaboutnothing contains 4063 lines\n",
      "othello contains 5424 lines\n",
      "periclesprinceoftyre contains 3871 lines\n",
      "romeoandjuliet contains 4766 lines\n",
      "tamingoftheshrew contains 4148 lines\n",
      "tempest contains 3399 lines\n",
      "timonofathens contains 3973 lines\n",
      "titusandronicus contains 3767 lines\n",
      "troilusandcressida contains 5443 lines\n",
      "twelfthnight contains 4017 lines\n",
      "twogentlemenofverona contains 3605 lines\n",
      "winterstale contains 4643 lines\n",
      "All together: 119683\n"
     ]
    }
   ],
   "source": [
    "def count_lines(filename):\n",
    "    count = 0\n",
    "    with open(filename) as f:\n",
    "        count = len(f.readlines())\n",
    "    return count\n",
    "\n",
    "import os\n",
    "\n",
    "plays = [os.path.join('shakespeare', p) for p in os.listdir('shakespeare') if p != 'README']\n",
    "line_counts = map(count_lines, plays)\n",
    "\n",
    "# Printing using usual loop\n",
    "# for p, lc in zip(plays, line_counts):\n",
    "#     print os.path.basename(p), '=', lc\n",
    "    \n",
    "# Printing using map()!\n",
    "def print_result(filename, nlines):\n",
    "    print '%s contains %d lines' % (os.path.basename(filename), nlines)\n",
    "\n",
    "map(print_result, plays, line_counts)\n",
    "\n",
    "# Count the sum of lines in all plays\n",
    "def sum(x, y):\n",
    "    \"\"\"Return the sum of the two arguments\"\"\"\n",
    "    return x+y\n",
    "\n",
    "print 'All together:', reduce(sum, line_counts)"
   ]
  },
  {
   "cell_type": "markdown",
   "metadata": {},
   "source": [
    "# Anonymous functions (lambdas)"
   ]
  },
  {
   "cell_type": "code",
   "execution_count": 65,
   "metadata": {
    "collapsed": false
   },
   "outputs": [
    {
     "name": "stdout",
     "output_type": "stream",
     "text": [
      "[7, 9, 11, 13, 15]\n"
     ]
    }
   ],
   "source": [
    "a = [1, 2, 3, 4, 5]\n",
    "b = [6, 7, 8, 9, 10]\n",
    "\n",
    "total = map(lambda x,y: x+y, a, b)\n",
    "print total"
   ]
  },
  {
   "cell_type": "code",
   "execution_count": 66,
   "metadata": {
    "collapsed": false
   },
   "outputs": [
    {
     "name": "stdout",
     "output_type": "stream",
     "text": [
      "120\n"
     ]
    }
   ],
   "source": [
    "a = [1, 2, 3, 4, 5]\n",
    "\n",
    "print reduce( lambda x, y: x*y, a)"
   ]
  },
  {
   "cell_type": "code",
   "execution_count": 67,
   "metadata": {
    "collapsed": false
   },
   "outputs": [
    {
     "name": "stdout",
     "output_type": "stream",
     "text": [
      "[1, 4, 9, 16, 25]\n"
     ]
    }
   ],
   "source": [
    "print map(lambda x: x*x, a)"
   ]
  },
  {
   "cell_type": "code",
   "execution_count": 68,
   "metadata": {
    "collapsed": false
   },
   "outputs": [
    {
     "name": "stdout",
     "output_type": "stream",
     "text": [
      "25\n"
     ]
    }
   ],
   "source": [
    "square = lambda x: x*x\n",
    "print square(5)"
   ]
  },
  {
   "cell_type": "code",
   "execution_count": 72,
   "metadata": {
    "collapsed": false
   },
   "outputs": [
    {
     "name": "stdout",
     "output_type": "stream",
     "text": [
      "10\n"
     ]
    }
   ],
   "source": [
    "def sum(x, y):\n",
    "    \"\"\"Return the sum of the two arguments\"\"\"\n",
    "    return x+y\n",
    "\n",
    "plus_five = lambda x: sum(5, x)\n",
    "\n",
    "print plus_five(5)"
   ]
  },
  {
   "cell_type": "code",
   "execution_count": 78,
   "metadata": {
    "collapsed": false
   },
   "outputs": [
    {
     "name": "stdout",
     "output_type": "stream",
     "text": [
      "[2, 4, 6, 8, 10]\n"
     ]
    }
   ],
   "source": [
    "def multiply(x, y):\n",
    "    \"\"\"Return the product of the two arguments\"\"\"\n",
    "    return x*y\n",
    "\n",
    "a = [1, 2, 3, 4, 5]\n",
    "\n",
    "double_a = map( lambda x: multiply(x,2), a )\n",
    "\n",
    "print( double_a )"
   ]
  },
  {
   "cell_type": "markdown",
   "metadata": {},
   "source": [
    "## Exercise"
   ]
  },
  {
   "cell_type": "markdown",
   "metadata": {},
   "source": [
    "Now using lambdas!"
   ]
  },
  {
   "cell_type": "code",
   "execution_count": 83,
   "metadata": {
    "collapsed": false
   },
   "outputs": [
    {
     "name": "stdout",
     "output_type": "stream",
     "text": [
      "allswellthatendswell contains 4515 lines\n",
      "antonyandcleopatra contains 5998 lines\n",
      "asyoulikeit contains 4122 lines\n",
      "comedyoferrors contains 2937 lines\n",
      "coriolanus contains 5836 lines\n",
      "cymbeline contains 5485 lines\n",
      "hamlet contains 6045 lines\n",
      "juliuscaesar contains 4107 lines\n",
      "kinglear contains 5525 lines\n",
      "loveslabourslost contains 4335 lines\n",
      "macbeth contains 3876 lines\n",
      "measureforemeasure contains 4337 lines\n",
      "merchantofvenice contains 3883 lines\n",
      "merrywivesofwindsor contains 4448 lines\n",
      "midsummersnightsdream contains 3115 lines\n",
      "muchadoaboutnothing contains 4063 lines\n",
      "othello contains 5424 lines\n",
      "periclesprinceoftyre contains 3871 lines\n",
      "romeoandjuliet contains 4766 lines\n",
      "tamingoftheshrew contains 4148 lines\n",
      "tempest contains 3399 lines\n",
      "timonofathens contains 3973 lines\n",
      "titusandronicus contains 3767 lines\n",
      "troilusandcressida contains 5443 lines\n",
      "twelfthnight contains 4017 lines\n",
      "twogentlemenofverona contains 3605 lines\n",
      "winterstale contains 4643 lines\n",
      "All together: 119683\n"
     ]
    }
   ],
   "source": [
    "import os\n",
    "from __future__ import print_function\n",
    "\n",
    "plays = [os.path.join('shakespeare', p) for p in os.listdir('shakespeare') if p != 'README']\n",
    "line_counts = map(lambda f: len(open(f).readlines()), plays)\n",
    "map(lambda p,lc: print('%s contains %d lines' % (os.path.basename(p), lc)), plays, line_counts)\n",
    "print('All together:', reduce(lambda x,y: x+y, line_counts))"
   ]
  }
 ],
 "metadata": {
  "kernelspec": {
   "display_name": "Python 2",
   "language": "python",
   "name": "python2"
  },
  "language_info": {
   "codemirror_mode": {
    "name": "ipython",
    "version": 2
   },
   "file_extension": ".py",
   "mimetype": "text/x-python",
   "name": "python",
   "nbconvert_exporter": "python",
   "pygments_lexer": "ipython2",
   "version": "2.7.10"
  }
 },
 "nbformat": 4,
 "nbformat_minor": 0
}
